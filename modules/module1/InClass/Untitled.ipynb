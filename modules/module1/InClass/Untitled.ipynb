{
 "cells": [
  {
   "cell_type": "code",
   "execution_count": null,
   "metadata": {},
   "outputs": [],
   "source": [
    "%%bash\n",
    "\n",
    "cd /home/uu00180764/DATA/Numerics/mimic2/hr/subjects\n",
    "grep -lrP \"\\b(?<!\\.)[23]\\d{2,2}\\b\" . > ~/hr200.txt\n",
    "cd /home/uu01080764/DATA/Numerics/mimic2/bp/subjects\n",
    "grep -lrP \"\\b(?<!\\.)[23]\\d{2,2}\\b\" . > ~/bp200.txt\n",
    "grep -Fx -f ~/bp200.txt ~/hr200.txt"
   ]
  },
  {
   "cell_type": "code",
   "execution_count": null,
   "metadata": {},
   "outputs": [],
   "source": []
  }
 ],
 "metadata": {
  "kernelspec": {
   "display_name": "Python 3",
   "language": "python",
   "name": "python3"
  },
  "language_info": {
   "codemirror_mode": {
    "name": "ipython",
    "version": 3
   },
   "file_extension": ".py",
   "mimetype": "text/x-python",
   "name": "python",
   "nbconvert_exporter": "python",
   "pygments_lexer": "ipython3",
   "version": "3.7.3"
  }
 },
 "nbformat": 4,
 "nbformat_minor": 2
}
